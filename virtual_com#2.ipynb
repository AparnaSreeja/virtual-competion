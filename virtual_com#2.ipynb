{
 "cells": [
  {
   "cell_type": "markdown",
   "metadata": {
    "_cell_guid": "b1076dfc-b9ad-4769-8c92-a6c4dae69d19",
    "_uuid": "8f2839f25d086af736a60e9eeb907d3b93b6e0e5",
    "execution": {
     "iopub.execute_input": "2022-11-16T04:15:56.629165Z",
     "iopub.status.busy": "2022-11-16T04:15:56.627216Z",
     "iopub.status.idle": "2022-11-16T04:15:56.650795Z",
     "shell.execute_reply": "2022-11-16T04:15:56.648271Z",
     "shell.execute_reply.started": "2022-11-16T04:15:56.629109Z"
    }
   },
   "source": [
    "\n",
    "### Problem Statement:\n",
    "\n",
    "About Company:\n",
    "\n",
    "Dream Housing Finance company deals in all home loans. They have presence across all urban, semi urban and rural areas. Customer first apply for home loan after that company validates the customer eligibility for loan.\n",
    "\n",
    "Problem:\n",
    "\n",
    "Company wants to automate the loan eligibility process (real time) based on customer detail provided while filling online application form. These details are Gender, Marital Status, Education, Number of Dependents, Income, Loan Amount, Credit History and others. To automate this process, they have given a problem to identify the customers segments, those are eligible for loan amount so that they can specifically target these customers. Here they have provided a partial data set.\n"
   ]
  },
  {
   "cell_type": "markdown",
   "metadata": {},
   "source": [
    "### Import libraries "
   ]
  },
  {
   "cell_type": "code",
   "execution_count": 9,
   "metadata": {
    "execution": {
     "iopub.execute_input": "2022-11-16T04:36:30.639307Z",
     "iopub.status.busy": "2022-11-16T04:36:30.63896Z",
     "iopub.status.idle": "2022-11-16T04:36:30.651782Z",
     "shell.execute_reply": "2022-11-16T04:36:30.650554Z",
     "shell.execute_reply.started": "2022-11-16T04:36:30.639276Z"
    }
   },
   "outputs": [],
   "source": [
    "import numpy as np \n",
    "import pandas as pd\n",
    "import seaborn as sns\n",
    "import matplotlib.pyplot as plt"
   ]
  },
  {
   "cell_type": "markdown",
   "metadata": {},
   "source": [
    "## Read train dataset and test dataset"
   ]
  },
  {
   "cell_type": "code",
   "execution_count": 10,
   "metadata": {
    "execution": {
     "iopub.execute_input": "2022-11-16T04:36:30.65493Z",
     "iopub.status.busy": "2022-11-16T04:36:30.654469Z",
     "iopub.status.idle": "2022-11-16T04:36:30.67082Z",
     "shell.execute_reply": "2022-11-16T04:36:30.669837Z",
     "shell.execute_reply.started": "2022-11-16T04:36:30.654888Z"
    }
   },
   "outputs": [],
   "source": [
    "train_data = pd.read_csv('train_ctrUa4K.csv')\n",
    "test_data = pd.read_csv('test_lAUu6dG.csv')\n"
   ]
  },
  {
   "cell_type": "code",
   "execution_count": 11,
   "metadata": {
    "execution": {
     "iopub.execute_input": "2022-11-16T04:36:30.672768Z",
     "iopub.status.busy": "2022-11-16T04:36:30.671953Z",
     "iopub.status.idle": "2022-11-16T04:36:30.677438Z",
     "shell.execute_reply": "2022-11-16T04:36:30.676493Z",
     "shell.execute_reply.started": "2022-11-16T04:36:30.672733Z"
    }
   },
   "outputs": [],
   "source": [
    "test_data1 = test_data.copy()"
   ]
  },
  {
   "cell_type": "markdown",
   "metadata": {},
   "source": [
    "## First 5 rows of the train datasets"
   ]
  },
  {
   "cell_type": "code",
   "execution_count": 12,
   "metadata": {
    "execution": {
     "iopub.execute_input": "2022-11-16T04:36:30.679382Z",
     "iopub.status.busy": "2022-11-16T04:36:30.678629Z",
     "iopub.status.idle": "2022-11-16T04:36:30.707781Z",
     "shell.execute_reply": "2022-11-16T04:36:30.706618Z",
     "shell.execute_reply.started": "2022-11-16T04:36:30.679324Z"
    },
    "scrolled": true
   },
   "outputs": [
    {
     "data": {
      "text/html": [
       "<div>\n",
       "<style scoped>\n",
       "    .dataframe tbody tr th:only-of-type {\n",
       "        vertical-align: middle;\n",
       "    }\n",
       "\n",
       "    .dataframe tbody tr th {\n",
       "        vertical-align: top;\n",
       "    }\n",
       "\n",
       "    .dataframe thead th {\n",
       "        text-align: right;\n",
       "    }\n",
       "</style>\n",
       "<table border=\"1\" class=\"dataframe\">\n",
       "  <thead>\n",
       "    <tr style=\"text-align: right;\">\n",
       "      <th></th>\n",
       "      <th>Loan_ID</th>\n",
       "      <th>Gender</th>\n",
       "      <th>Married</th>\n",
       "      <th>Dependents</th>\n",
       "      <th>Education</th>\n",
       "      <th>Self_Employed</th>\n",
       "      <th>ApplicantIncome</th>\n",
       "      <th>CoapplicantIncome</th>\n",
       "      <th>LoanAmount</th>\n",
       "      <th>Loan_Amount_Term</th>\n",
       "      <th>Credit_History</th>\n",
       "      <th>Property_Area</th>\n",
       "      <th>Loan_Status</th>\n",
       "    </tr>\n",
       "  </thead>\n",
       "  <tbody>\n",
       "    <tr>\n",
       "      <th>0</th>\n",
       "      <td>LP001002</td>\n",
       "      <td>Male</td>\n",
       "      <td>No</td>\n",
       "      <td>0</td>\n",
       "      <td>Graduate</td>\n",
       "      <td>No</td>\n",
       "      <td>5849</td>\n",
       "      <td>0.0</td>\n",
       "      <td>NaN</td>\n",
       "      <td>360.0</td>\n",
       "      <td>1.0</td>\n",
       "      <td>Urban</td>\n",
       "      <td>Y</td>\n",
       "    </tr>\n",
       "    <tr>\n",
       "      <th>1</th>\n",
       "      <td>LP001003</td>\n",
       "      <td>Male</td>\n",
       "      <td>Yes</td>\n",
       "      <td>1</td>\n",
       "      <td>Graduate</td>\n",
       "      <td>No</td>\n",
       "      <td>4583</td>\n",
       "      <td>1508.0</td>\n",
       "      <td>128.0</td>\n",
       "      <td>360.0</td>\n",
       "      <td>1.0</td>\n",
       "      <td>Rural</td>\n",
       "      <td>N</td>\n",
       "    </tr>\n",
       "    <tr>\n",
       "      <th>2</th>\n",
       "      <td>LP001005</td>\n",
       "      <td>Male</td>\n",
       "      <td>Yes</td>\n",
       "      <td>0</td>\n",
       "      <td>Graduate</td>\n",
       "      <td>Yes</td>\n",
       "      <td>3000</td>\n",
       "      <td>0.0</td>\n",
       "      <td>66.0</td>\n",
       "      <td>360.0</td>\n",
       "      <td>1.0</td>\n",
       "      <td>Urban</td>\n",
       "      <td>Y</td>\n",
       "    </tr>\n",
       "    <tr>\n",
       "      <th>3</th>\n",
       "      <td>LP001006</td>\n",
       "      <td>Male</td>\n",
       "      <td>Yes</td>\n",
       "      <td>0</td>\n",
       "      <td>Not Graduate</td>\n",
       "      <td>No</td>\n",
       "      <td>2583</td>\n",
       "      <td>2358.0</td>\n",
       "      <td>120.0</td>\n",
       "      <td>360.0</td>\n",
       "      <td>1.0</td>\n",
       "      <td>Urban</td>\n",
       "      <td>Y</td>\n",
       "    </tr>\n",
       "    <tr>\n",
       "      <th>4</th>\n",
       "      <td>LP001008</td>\n",
       "      <td>Male</td>\n",
       "      <td>No</td>\n",
       "      <td>0</td>\n",
       "      <td>Graduate</td>\n",
       "      <td>No</td>\n",
       "      <td>6000</td>\n",
       "      <td>0.0</td>\n",
       "      <td>141.0</td>\n",
       "      <td>360.0</td>\n",
       "      <td>1.0</td>\n",
       "      <td>Urban</td>\n",
       "      <td>Y</td>\n",
       "    </tr>\n",
       "  </tbody>\n",
       "</table>\n",
       "</div>"
      ],
      "text/plain": [
       "    Loan_ID Gender Married Dependents     Education Self_Employed  \\\n",
       "0  LP001002   Male      No          0      Graduate            No   \n",
       "1  LP001003   Male     Yes          1      Graduate            No   \n",
       "2  LP001005   Male     Yes          0      Graduate           Yes   \n",
       "3  LP001006   Male     Yes          0  Not Graduate            No   \n",
       "4  LP001008   Male      No          0      Graduate            No   \n",
       "\n",
       "   ApplicantIncome  CoapplicantIncome  LoanAmount  Loan_Amount_Term  \\\n",
       "0             5849                0.0         NaN             360.0   \n",
       "1             4583             1508.0       128.0             360.0   \n",
       "2             3000                0.0        66.0             360.0   \n",
       "3             2583             2358.0       120.0             360.0   \n",
       "4             6000                0.0       141.0             360.0   \n",
       "\n",
       "   Credit_History Property_Area Loan_Status  \n",
       "0             1.0         Urban           Y  \n",
       "1             1.0         Rural           N  \n",
       "2             1.0         Urban           Y  \n",
       "3             1.0         Urban           Y  \n",
       "4             1.0         Urban           Y  "
      ]
     },
     "execution_count": 12,
     "metadata": {},
     "output_type": "execute_result"
    }
   ],
   "source": [
    "train_data.head()"
   ]
  },
  {
   "cell_type": "markdown",
   "metadata": {},
   "source": [
    "### Class Distribution"
   ]
  },
  {
   "cell_type": "code",
   "execution_count": 13,
   "metadata": {
    "execution": {
     "iopub.execute_input": "2022-11-16T04:36:30.711662Z",
     "iopub.status.busy": "2022-11-16T04:36:30.711204Z",
     "iopub.status.idle": "2022-11-16T04:36:30.721601Z",
     "shell.execute_reply": "2022-11-16T04:36:30.720253Z",
     "shell.execute_reply.started": "2022-11-16T04:36:30.711613Z"
    }
   },
   "outputs": [
    {
     "data": {
      "text/plain": [
       "Y    422\n",
       "N    192\n",
       "Name: Loan_Status, dtype: int64"
      ]
     },
     "execution_count": 13,
     "metadata": {},
     "output_type": "execute_result"
    }
   ],
   "source": [
    "train_data[\"Loan_Status\"].value_counts()"
   ]
  },
  {
   "cell_type": "code",
   "execution_count": 14,
   "metadata": {
    "execution": {
     "iopub.execute_input": "2022-11-16T04:36:30.723456Z",
     "iopub.status.busy": "2022-11-16T04:36:30.723043Z",
     "iopub.status.idle": "2022-11-16T04:36:30.746282Z",
     "shell.execute_reply": "2022-11-16T04:36:30.745028Z",
     "shell.execute_reply.started": "2022-11-16T04:36:30.723423Z"
    }
   },
   "outputs": [
    {
     "data": {
      "text/html": [
       "<div>\n",
       "<style scoped>\n",
       "    .dataframe tbody tr th:only-of-type {\n",
       "        vertical-align: middle;\n",
       "    }\n",
       "\n",
       "    .dataframe tbody tr th {\n",
       "        vertical-align: top;\n",
       "    }\n",
       "\n",
       "    .dataframe thead th {\n",
       "        text-align: right;\n",
       "    }\n",
       "</style>\n",
       "<table border=\"1\" class=\"dataframe\">\n",
       "  <thead>\n",
       "    <tr style=\"text-align: right;\">\n",
       "      <th></th>\n",
       "      <th>Loan_ID</th>\n",
       "      <th>Gender</th>\n",
       "      <th>Married</th>\n",
       "      <th>Dependents</th>\n",
       "      <th>Education</th>\n",
       "      <th>Self_Employed</th>\n",
       "      <th>ApplicantIncome</th>\n",
       "      <th>CoapplicantIncome</th>\n",
       "      <th>LoanAmount</th>\n",
       "      <th>Loan_Amount_Term</th>\n",
       "      <th>Credit_History</th>\n",
       "      <th>Property_Area</th>\n",
       "    </tr>\n",
       "  </thead>\n",
       "  <tbody>\n",
       "    <tr>\n",
       "      <th>0</th>\n",
       "      <td>LP001015</td>\n",
       "      <td>Male</td>\n",
       "      <td>Yes</td>\n",
       "      <td>0</td>\n",
       "      <td>Graduate</td>\n",
       "      <td>No</td>\n",
       "      <td>5720</td>\n",
       "      <td>0</td>\n",
       "      <td>110.0</td>\n",
       "      <td>360.0</td>\n",
       "      <td>1.0</td>\n",
       "      <td>Urban</td>\n",
       "    </tr>\n",
       "    <tr>\n",
       "      <th>1</th>\n",
       "      <td>LP001022</td>\n",
       "      <td>Male</td>\n",
       "      <td>Yes</td>\n",
       "      <td>1</td>\n",
       "      <td>Graduate</td>\n",
       "      <td>No</td>\n",
       "      <td>3076</td>\n",
       "      <td>1500</td>\n",
       "      <td>126.0</td>\n",
       "      <td>360.0</td>\n",
       "      <td>1.0</td>\n",
       "      <td>Urban</td>\n",
       "    </tr>\n",
       "    <tr>\n",
       "      <th>2</th>\n",
       "      <td>LP001031</td>\n",
       "      <td>Male</td>\n",
       "      <td>Yes</td>\n",
       "      <td>2</td>\n",
       "      <td>Graduate</td>\n",
       "      <td>No</td>\n",
       "      <td>5000</td>\n",
       "      <td>1800</td>\n",
       "      <td>208.0</td>\n",
       "      <td>360.0</td>\n",
       "      <td>1.0</td>\n",
       "      <td>Urban</td>\n",
       "    </tr>\n",
       "    <tr>\n",
       "      <th>3</th>\n",
       "      <td>LP001035</td>\n",
       "      <td>Male</td>\n",
       "      <td>Yes</td>\n",
       "      <td>2</td>\n",
       "      <td>Graduate</td>\n",
       "      <td>No</td>\n",
       "      <td>2340</td>\n",
       "      <td>2546</td>\n",
       "      <td>100.0</td>\n",
       "      <td>360.0</td>\n",
       "      <td>NaN</td>\n",
       "      <td>Urban</td>\n",
       "    </tr>\n",
       "    <tr>\n",
       "      <th>4</th>\n",
       "      <td>LP001051</td>\n",
       "      <td>Male</td>\n",
       "      <td>No</td>\n",
       "      <td>0</td>\n",
       "      <td>Not Graduate</td>\n",
       "      <td>No</td>\n",
       "      <td>3276</td>\n",
       "      <td>0</td>\n",
       "      <td>78.0</td>\n",
       "      <td>360.0</td>\n",
       "      <td>1.0</td>\n",
       "      <td>Urban</td>\n",
       "    </tr>\n",
       "  </tbody>\n",
       "</table>\n",
       "</div>"
      ],
      "text/plain": [
       "    Loan_ID Gender Married Dependents     Education Self_Employed  \\\n",
       "0  LP001015   Male     Yes          0      Graduate            No   \n",
       "1  LP001022   Male     Yes          1      Graduate            No   \n",
       "2  LP001031   Male     Yes          2      Graduate            No   \n",
       "3  LP001035   Male     Yes          2      Graduate            No   \n",
       "4  LP001051   Male      No          0  Not Graduate            No   \n",
       "\n",
       "   ApplicantIncome  CoapplicantIncome  LoanAmount  Loan_Amount_Term  \\\n",
       "0             5720                  0       110.0             360.0   \n",
       "1             3076               1500       126.0             360.0   \n",
       "2             5000               1800       208.0             360.0   \n",
       "3             2340               2546       100.0             360.0   \n",
       "4             3276                  0        78.0             360.0   \n",
       "\n",
       "   Credit_History Property_Area  \n",
       "0             1.0         Urban  \n",
       "1             1.0         Urban  \n",
       "2             1.0         Urban  \n",
       "3             NaN         Urban  \n",
       "4             1.0         Urban  "
      ]
     },
     "execution_count": 14,
     "metadata": {},
     "output_type": "execute_result"
    }
   ],
   "source": [
    "# To get the top 5 records of test\n",
    "test_data.head()"
   ]
  },
  {
   "cell_type": "code",
   "execution_count": 15,
   "metadata": {
    "execution": {
     "iopub.execute_input": "2022-11-16T04:36:30.799889Z",
     "iopub.status.busy": "2022-11-16T04:36:30.799532Z",
     "iopub.status.idle": "2022-11-16T04:36:30.807775Z",
     "shell.execute_reply": "2022-11-16T04:36:30.8062Z",
     "shell.execute_reply.started": "2022-11-16T04:36:30.799857Z"
    }
   },
   "outputs": [
    {
     "data": {
      "text/plain": [
       "(614, 13)"
      ]
     },
     "execution_count": 15,
     "metadata": {},
     "output_type": "execute_result"
    }
   ],
   "source": [
    "# To get the dimensions of train data\n",
    "train_data.shape"
   ]
  },
  {
   "cell_type": "code",
   "execution_count": 16,
   "metadata": {
    "execution": {
     "iopub.execute_input": "2022-11-16T04:36:30.809839Z",
     "iopub.status.busy": "2022-11-16T04:36:30.809345Z",
     "iopub.status.idle": "2022-11-16T04:36:30.819286Z",
     "shell.execute_reply": "2022-11-16T04:36:30.818249Z",
     "shell.execute_reply.started": "2022-11-16T04:36:30.809792Z"
    }
   },
   "outputs": [
    {
     "data": {
      "text/plain": [
       "(367, 12)"
      ]
     },
     "execution_count": 16,
     "metadata": {},
     "output_type": "execute_result"
    }
   ],
   "source": [
    "# To get the dimensions of test data\n",
    "test_data.shape"
   ]
  },
  {
   "cell_type": "code",
   "execution_count": 17,
   "metadata": {
    "execution": {
     "iopub.execute_input": "2022-11-16T04:36:30.821081Z",
     "iopub.status.busy": "2022-11-16T04:36:30.820742Z",
     "iopub.status.idle": "2022-11-16T04:36:30.835755Z",
     "shell.execute_reply": "2022-11-16T04:36:30.834613Z",
     "shell.execute_reply.started": "2022-11-16T04:36:30.821051Z"
    }
   },
   "outputs": [
    {
     "data": {
      "text/plain": [
       "(614, 13)"
      ]
     },
     "execution_count": 17,
     "metadata": {},
     "output_type": "execute_result"
    }
   ],
   "source": [
    "#removing duplicates from train data\n",
    "train_data.drop_duplicates(keep='first', inplace=True)\n",
    "train_data.shape"
   ]
  },
  {
   "cell_type": "code",
   "execution_count": 18,
   "metadata": {
    "execution": {
     "iopub.execute_input": "2022-11-16T04:36:30.837632Z",
     "iopub.status.busy": "2022-11-16T04:36:30.837269Z",
     "iopub.status.idle": "2022-11-16T04:36:30.849237Z",
     "shell.execute_reply": "2022-11-16T04:36:30.848252Z",
     "shell.execute_reply.started": "2022-11-16T04:36:30.8376Z"
    }
   },
   "outputs": [
    {
     "data": {
      "text/plain": [
       "(367, 12)"
      ]
     },
     "execution_count": 18,
     "metadata": {},
     "output_type": "execute_result"
    }
   ],
   "source": [
    "#removing duplicates from test data\n",
    "test_data.drop_duplicates(keep='first', inplace=True)\n",
    "test_data.shape"
   ]
  },
  {
   "cell_type": "code",
   "execution_count": 19,
   "metadata": {
    "execution": {
     "iopub.execute_input": "2022-11-16T04:36:30.851697Z",
     "iopub.status.busy": "2022-11-16T04:36:30.850693Z",
     "iopub.status.idle": "2022-11-16T04:36:30.860446Z",
     "shell.execute_reply": "2022-11-16T04:36:30.859225Z",
     "shell.execute_reply.started": "2022-11-16T04:36:30.851662Z"
    }
   },
   "outputs": [
    {
     "data": {
      "text/plain": [
       "Loan_ID               object\n",
       "Gender                object\n",
       "Married               object\n",
       "Dependents            object\n",
       "Education             object\n",
       "Self_Employed         object\n",
       "ApplicantIncome        int64\n",
       "CoapplicantIncome    float64\n",
       "LoanAmount           float64\n",
       "Loan_Amount_Term     float64\n",
       "Credit_History       float64\n",
       "Property_Area         object\n",
       "Loan_Status           object\n",
       "dtype: object"
      ]
     },
     "execution_count": 19,
     "metadata": {},
     "output_type": "execute_result"
    }
   ],
   "source": [
    "#checking data types of train data\n",
    "train_data.dtypes"
   ]
  },
  {
   "cell_type": "code",
   "execution_count": 20,
   "metadata": {
    "execution": {
     "iopub.execute_input": "2022-11-16T04:36:30.862158Z",
     "iopub.status.busy": "2022-11-16T04:36:30.861821Z",
     "iopub.status.idle": "2022-11-16T04:36:30.871881Z",
     "shell.execute_reply": "2022-11-16T04:36:30.870886Z",
     "shell.execute_reply.started": "2022-11-16T04:36:30.862128Z"
    }
   },
   "outputs": [
    {
     "data": {
      "text/plain": [
       "Loan_ID               object\n",
       "Gender                object\n",
       "Married               object\n",
       "Dependents            object\n",
       "Education             object\n",
       "Self_Employed         object\n",
       "ApplicantIncome        int64\n",
       "CoapplicantIncome      int64\n",
       "LoanAmount           float64\n",
       "Loan_Amount_Term     float64\n",
       "Credit_History       float64\n",
       "Property_Area         object\n",
       "dtype: object"
      ]
     },
     "execution_count": 20,
     "metadata": {},
     "output_type": "execute_result"
    }
   ],
   "source": [
    "#checking data types of test data\n",
    "test_data.dtypes"
   ]
  },
  {
   "cell_type": "code",
   "execution_count": 21,
   "metadata": {
    "execution": {
     "iopub.execute_input": "2022-11-16T04:36:30.873217Z",
     "iopub.status.busy": "2022-11-16T04:36:30.872882Z",
     "iopub.status.idle": "2022-11-16T04:36:30.887019Z",
     "shell.execute_reply": "2022-11-16T04:36:30.885862Z",
     "shell.execute_reply.started": "2022-11-16T04:36:30.873176Z"
    }
   },
   "outputs": [
    {
     "data": {
      "text/plain": [
       "Loan_ID              614\n",
       "Gender                 2\n",
       "Married                2\n",
       "Dependents             4\n",
       "Education              2\n",
       "Self_Employed          2\n",
       "ApplicantIncome      505\n",
       "CoapplicantIncome    287\n",
       "LoanAmount           203\n",
       "Loan_Amount_Term      10\n",
       "Credit_History         2\n",
       "Property_Area          3\n",
       "Loan_Status            2\n",
       "dtype: int64"
      ]
     },
     "execution_count": 21,
     "metadata": {},
     "output_type": "execute_result"
    }
   ],
   "source": [
    "#checking any unique values are there in train data\n",
    "train_data.nunique()"
   ]
  },
  {
   "cell_type": "code",
   "execution_count": 22,
   "metadata": {
    "execution": {
     "iopub.execute_input": "2022-11-16T04:36:30.889007Z",
     "iopub.status.busy": "2022-11-16T04:36:30.888624Z",
     "iopub.status.idle": "2022-11-16T04:36:30.899896Z",
     "shell.execute_reply": "2022-11-16T04:36:30.898786Z",
     "shell.execute_reply.started": "2022-11-16T04:36:30.888974Z"
    }
   },
   "outputs": [
    {
     "data": {
      "text/plain": [
       "Loan_ID              367\n",
       "Gender                 2\n",
       "Married                2\n",
       "Dependents             4\n",
       "Education              2\n",
       "Self_Employed          2\n",
       "ApplicantIncome      314\n",
       "CoapplicantIncome    194\n",
       "LoanAmount           144\n",
       "Loan_Amount_Term      12\n",
       "Credit_History         2\n",
       "Property_Area          3\n",
       "dtype: int64"
      ]
     },
     "execution_count": 22,
     "metadata": {},
     "output_type": "execute_result"
    }
   ],
   "source": [
    "#checking any unique values are there in test data\n",
    "test_data.nunique()"
   ]
  },
  {
   "cell_type": "markdown",
   "metadata": {},
   "source": [
    "## Missing Values"
   ]
  },
  {
   "cell_type": "code",
   "execution_count": 23,
   "metadata": {
    "execution": {
     "iopub.execute_input": "2022-11-16T04:36:30.901673Z",
     "iopub.status.busy": "2022-11-16T04:36:30.901292Z",
     "iopub.status.idle": "2022-11-16T04:36:30.913031Z",
     "shell.execute_reply": "2022-11-16T04:36:30.911737Z",
     "shell.execute_reply.started": "2022-11-16T04:36:30.90164Z"
    }
   },
   "outputs": [
    {
     "data": {
      "text/plain": [
       "Loan_ID               0\n",
       "Gender               13\n",
       "Married               3\n",
       "Dependents           15\n",
       "Education             0\n",
       "Self_Employed        32\n",
       "ApplicantIncome       0\n",
       "CoapplicantIncome     0\n",
       "LoanAmount           22\n",
       "Loan_Amount_Term     14\n",
       "Credit_History       50\n",
       "Property_Area         0\n",
       "Loan_Status           0\n",
       "dtype: int64"
      ]
     },
     "execution_count": 23,
     "metadata": {},
     "output_type": "execute_result"
    }
   ],
   "source": [
    "#checking sum of null values from train data\n",
    "train_data.isnull().sum()"
   ]
  },
  {
   "cell_type": "code",
   "execution_count": 24,
   "metadata": {
    "execution": {
     "iopub.execute_input": "2022-11-16T04:36:30.915678Z",
     "iopub.status.busy": "2022-11-16T04:36:30.914564Z",
     "iopub.status.idle": "2022-11-16T04:36:30.928473Z",
     "shell.execute_reply": "2022-11-16T04:36:30.927441Z",
     "shell.execute_reply.started": "2022-11-16T04:36:30.915643Z"
    }
   },
   "outputs": [
    {
     "data": {
      "text/plain": [
       "Loan_ID               0\n",
       "Gender               11\n",
       "Married               0\n",
       "Dependents           10\n",
       "Education             0\n",
       "Self_Employed        23\n",
       "ApplicantIncome       0\n",
       "CoapplicantIncome     0\n",
       "LoanAmount            5\n",
       "Loan_Amount_Term      6\n",
       "Credit_History       29\n",
       "Property_Area         0\n",
       "dtype: int64"
      ]
     },
     "execution_count": 24,
     "metadata": {},
     "output_type": "execute_result"
    }
   ],
   "source": [
    "#checking sum of null values from test data\n",
    "test_data.isnull().sum()"
   ]
  },
  {
   "cell_type": "code",
   "execution_count": 25,
   "metadata": {
    "execution": {
     "iopub.execute_input": "2022-11-16T04:36:30.930794Z",
     "iopub.status.busy": "2022-11-16T04:36:30.929891Z",
     "iopub.status.idle": "2022-11-16T04:36:31.252094Z",
     "shell.execute_reply": "2022-11-16T04:36:31.251146Z",
     "shell.execute_reply.started": "2022-11-16T04:36:30.930757Z"
    }
   },
   "outputs": [
    {
     "data": {
      "image/png": "[encoded data removed]",
      "text/plain": [
       "<Figure size 640x480 with 2 Axes>"
      ]
     },
     "metadata": {},
     "output_type": "display_data"
    }
   ],
   "source": [
    "# plotting a correlation heatmap\n",
    "dataplot = sns.heatmap(train_data.corr(), cmap=\"YlGnBu\", annot=True)\n",
    " \n",
    "# displaying heatmap\n",
    "plt.show()"
   ]
  },
  {
   "cell_type": "code",
   "execution_count": 26,
   "metadata": {
    "execution": {
     "iopub.execute_input": "2022-11-16T04:36:31.254844Z",
     "iopub.status.busy": "2022-11-16T04:36:31.253705Z",
     "iopub.status.idle": "2022-11-16T04:36:31.262763Z",
     "shell.execute_reply": "2022-11-16T04:36:31.261301Z",
     "shell.execute_reply.started": "2022-11-16T04:36:31.2548Z"
    }
   },
   "outputs": [
    {
     "data": {
      "text/plain": [
       "Index(['Loan_ID', 'Gender', 'Married', 'Dependents', 'Education',\n",
       "       'Self_Employed', 'ApplicantIncome', 'CoapplicantIncome', 'LoanAmount',\n",
       "       'Loan_Amount_Term', 'Credit_History', 'Property_Area', 'Loan_Status'],\n",
       "      dtype='object')"
      ]
     },
     "execution_count": 26,
     "metadata": {},
     "output_type": "execute_result"
    }
   ],
   "source": [
    "cols = train_data.columns\n",
    "cols"
   ]
  },
  {
   "cell_type": "code",
   "execution_count": 27,
   "metadata": {
    "execution": {
     "iopub.execute_input": "2022-11-16T04:36:31.265421Z",
     "iopub.status.busy": "2022-11-16T04:36:31.26446Z",
     "iopub.status.idle": "2022-11-16T04:36:31.273414Z",
     "shell.execute_reply": "2022-11-16T04:36:31.272537Z",
     "shell.execute_reply.started": "2022-11-16T04:36:31.265359Z"
    }
   },
   "outputs": [],
   "source": [
    "categorical_columns = ['Gender', 'Married', 'Dependents', 'Education', 'Self_Employed', 'Property_Area','Loan_Status','Loan_Amount_Term']"
   ]
  },
  {
   "cell_type": "code",
   "execution_count": 28,
   "metadata": {
    "execution": {
     "iopub.execute_input": "2022-11-16T04:36:31.275895Z",
     "iopub.status.busy": "2022-11-16T04:36:31.275026Z",
     "iopub.status.idle": "2022-11-16T04:36:32.442479Z",
     "shell.execute_reply": "2022-11-16T04:36:32.441174Z",
     "shell.execute_reply.started": "2022-11-16T04:36:31.275848Z"
    }
   },
   "outputs": [
    {
     "data": {
      "image/png": "[encoded data removed]",
      "text/plain": [
       "<Figure size 1500x2000 with 8 Axes>"
      ]
     },
     "metadata": {},
     "output_type": "display_data"
    }
   ],
   "source": [
    "fig,axes = plt.subplots(4,2,figsize=(15,20))\n",
    "for idx,cat_col in enumerate(categorical_columns):\n",
    "    row,col = idx//2,idx%2\n",
    "    sns.countplot(x=cat_col,data=train_data,hue='Loan_Status',ax=axes[row,col])\n",
    "\n",
    "\n",
    "plt.subplots_adjust(hspace=1)"
   ]
  },
  {
   "cell_type": "markdown",
   "metadata": {},
   "source": [
    "#### Plots above convey following things about the dataset:\n",
    "1.The majority of loan applicants (about 2/3rd) were approved for a loan.\n",
    "\n",
    "2.The dataset contains a higher proportion of male applicants compared to female applicants (approximately 3 times more), which could potentially lead to inaccurate predictions and it may be better to remove this variable from the analysis.\n",
    "\n",
    "3.The majority of the population in the dataset is married (2/3rd) and married applicants are more likely to be approved for a loan.\n",
    "\n",
    "4.The majority of the population in the dataset have no dependents and these applicants are more likely to be approved for a loan.\n",
    "\n",
    "5.The majority of the population in the dataset (about 5/6th) are graduates and graduates have a higher proportion of loan approvals.\n",
    "\n",
    "6.The majority of the population in the dataset (about 5/6th) are not self-employed.\n",
    "\n",
    "7.The majority of applicants in the dataset are from semi-urban areas and these applicants are more likely to be approved for a loan.\n",
    "\n",
    "8.Applicants with a credit history are far more likely to be approved for a loan.\n",
    "\n",
    "9.The majority of the loans taken out are for 360 months (30 years).\n",
    "\n",
    "Now, let's also analyze Numerical Columns:"
   ]
  },
  {
   "cell_type": "code",
   "execution_count": 29,
   "metadata": {
    "execution": {
     "iopub.execute_input": "2022-11-16T04:36:32.444581Z",
     "iopub.status.busy": "2022-11-16T04:36:32.444082Z",
     "iopub.status.idle": "2022-11-16T04:36:32.44995Z",
     "shell.execute_reply": "2022-11-16T04:36:32.44882Z",
     "shell.execute_reply.started": "2022-11-16T04:36:32.444545Z"
    }
   },
   "outputs": [],
   "source": [
    "numerical_columns = ['ApplicantIncome', 'CoapplicantIncome', 'LoanAmount']"
   ]
  },
  {
   "cell_type": "code",
   "execution_count": 30,
   "metadata": {
    "execution": {
     "iopub.execute_input": "2022-11-16T04:36:32.451802Z",
     "iopub.status.busy": "2022-11-16T04:36:32.451379Z",
     "iopub.status.idle": "2022-11-16T04:36:32.948259Z",
     "shell.execute_reply": "2022-11-16T04:36:32.947408Z",
     "shell.execute_reply.started": "2022-11-16T04:36:32.451767Z"
    }
   },
   "outputs": [
    {
     "name": "stdout",
     "output_type": "stream",
     "text": [
      "       ApplicantIncome  CoapplicantIncome  LoanAmount\n",
      "count       614.000000         614.000000  592.000000\n",
      "mean       5403.459283        1621.245798  146.412162\n",
      "std        6109.041673        2926.248369   85.587325\n",
      "min         150.000000           0.000000    9.000000\n",
      "25%        2877.500000           0.000000  100.000000\n",
      "50%        3812.500000        1188.500000  128.000000\n",
      "75%        5795.000000        2297.250000  168.000000\n",
      "max       81000.000000       41667.000000  700.000000\n"
     ]
    },
    {
     "data": {
      "image/png": "[encoded data removed]",
      "text/plain": [
       "<Figure size 1700x500 with 3 Axes>"
      ]
     },
     "metadata": {},
     "output_type": "display_data"
    }
   ],
   "source": [
    "fig,axes = plt.subplots(1,3,figsize=(17,5))\n",
    "for idx,num_col in enumerate(numerical_columns):\n",
    "    sns.boxplot(y=num_col,data=train_data,x='Loan_Status',ax=axes[idx])\n",
    "\n",
    "print(train_data[numerical_columns].describe())\n",
    "plt.subplots_adjust(hspace=1)"
   ]
  },
  {
   "cell_type": "markdown",
   "metadata": {},
   "source": [
    "For Numercical Columns, there is no significant relation to Loan approval status."
   ]
  },
  {
   "cell_type": "markdown",
   "metadata": {},
   "source": [
    "### Preprocessing Data:\n",
    "1. Encoding Categorical Features.\n",
    "2. Imputing missing values"
   ]
  },
  {
   "cell_type": "code",
   "execution_count": 31,
   "metadata": {
    "execution": {
     "iopub.execute_input": "2022-11-16T04:36:32.950154Z",
     "iopub.status.busy": "2022-11-16T04:36:32.949815Z",
     "iopub.status.idle": "2022-11-16T04:36:32.957355Z",
     "shell.execute_reply": "2022-11-16T04:36:32.956162Z",
     "shell.execute_reply.started": "2022-11-16T04:36:32.950122Z"
    }
   },
   "outputs": [],
   "source": [
    "train_data[\"Loan_Status\"] = train_data[\"Loan_Status\"].map({\"Y\" : 1, \"N\" : 0})"
   ]
  },
  {
   "cell_type": "code",
   "execution_count": 32,
   "metadata": {
    "execution": {
     "iopub.execute_input": "2022-11-16T04:36:32.959259Z",
     "iopub.status.busy": "2022-11-16T04:36:32.958845Z",
     "iopub.status.idle": "2022-11-16T04:36:32.972542Z",
     "shell.execute_reply": "2022-11-16T04:36:32.971463Z",
     "shell.execute_reply.started": "2022-11-16T04:36:32.959227Z"
    }
   },
   "outputs": [
    {
     "data": {
      "text/plain": [
       "1    422\n",
       "0    192\n",
       "Name: Loan_Status, dtype: int64"
      ]
     },
     "execution_count": 32,
     "metadata": {},
     "output_type": "execute_result"
    }
   ],
   "source": [
    "train_data[\"Loan_Status\"].value_counts()"
   ]
  },
  {
   "cell_type": "code",
   "execution_count": 33,
   "metadata": {
    "execution": {
     "iopub.execute_input": "2022-11-16T04:36:32.974565Z",
     "iopub.status.busy": "2022-11-16T04:36:32.974139Z",
     "iopub.status.idle": "2022-11-16T04:36:32.985094Z",
     "shell.execute_reply": "2022-11-16T04:36:32.983872Z",
     "shell.execute_reply.started": "2022-11-16T04:36:32.97452Z"
    }
   },
   "outputs": [],
   "source": [
    "xtr = train_data.drop([\"Loan_ID\",\"Loan_Status\",\"Gender\"],axis=1)\n",
    "xte = test_data.drop([\"Loan_ID\",\"Gender\"],axis=1)"
   ]
  },
  {
   "cell_type": "code",
   "execution_count": 34,
   "metadata": {
    "execution": {
     "iopub.execute_input": "2022-11-16T04:36:32.987038Z",
     "iopub.status.busy": "2022-11-16T04:36:32.986651Z",
     "iopub.status.idle": "2022-11-16T04:36:32.997195Z",
     "shell.execute_reply": "2022-11-16T04:36:32.995924Z",
     "shell.execute_reply.started": "2022-11-16T04:36:32.987006Z"
    }
   },
   "outputs": [],
   "source": [
    "ytr = train_data[[\"Loan_Status\"]]"
   ]
  },
  {
   "cell_type": "code",
   "execution_count": 35,
   "metadata": {
    "execution": {
     "iopub.execute_input": "2022-11-16T04:36:32.999277Z",
     "iopub.status.busy": "2022-11-16T04:36:32.998586Z",
     "iopub.status.idle": "2022-11-16T04:36:33.012098Z",
     "shell.execute_reply": "2022-11-16T04:36:33.010891Z",
     "shell.execute_reply.started": "2022-11-16T04:36:32.999243Z"
    }
   },
   "outputs": [
    {
     "data": {
      "text/plain": [
       "['Married', 'Dependents', 'Education', 'Self_Employed', 'Property_Area']"
      ]
     },
     "execution_count": 35,
     "metadata": {},
     "output_type": "execute_result"
    }
   ],
   "source": [
    "cat_cols = [col for col in xtr.columns if xtr.dtypes[col]==\"object\"]\n",
    "cat_cols"
   ]
  },
  {
   "cell_type": "code",
   "execution_count": 36,
   "metadata": {
    "execution": {
     "iopub.execute_input": "2022-11-16T04:36:33.013806Z",
     "iopub.status.busy": "2022-11-16T04:36:33.013468Z",
     "iopub.status.idle": "2022-11-16T04:36:33.025909Z",
     "shell.execute_reply": "2022-11-16T04:36:33.024703Z",
     "shell.execute_reply.started": "2022-11-16T04:36:33.013777Z"
    }
   },
   "outputs": [
    {
     "data": {
      "text/plain": [
       "['ApplicantIncome',\n",
       " 'CoapplicantIncome',\n",
       " 'LoanAmount',\n",
       " 'Loan_Amount_Term',\n",
       " 'Credit_History']"
      ]
     },
     "execution_count": 36,
     "metadata": {},
     "output_type": "execute_result"
    }
   ],
   "source": [
    "num_cols = [col for col in xtr.columns if xtr.dtypes[col] !=\"object\"]\n",
    "num_cols"
   ]
  },
  {
   "cell_type": "code",
   "execution_count": 37,
   "metadata": {
    "execution": {
     "iopub.execute_input": "2022-11-16T04:36:33.027722Z",
     "iopub.status.busy": "2022-11-16T04:36:33.027142Z",
     "iopub.status.idle": "2022-11-16T04:36:33.039003Z",
     "shell.execute_reply": "2022-11-16T04:36:33.037961Z",
     "shell.execute_reply.started": "2022-11-16T04:36:33.027684Z"
    }
   },
   "outputs": [],
   "source": [
    "xtr_cat = xtr[cat_cols]\n",
    "xtr_num = xtr[num_cols]\n",
    "xte_cat = xte[cat_cols]\n",
    "xte_num = xte[num_cols]"
   ]
  },
  {
   "cell_type": "markdown",
   "metadata": {},
   "source": [
    "### Null value imputation"
   ]
  },
  {
   "cell_type": "code",
   "execution_count": 38,
   "metadata": {
    "execution": {
     "iopub.execute_input": "2022-11-16T04:36:33.041078Z",
     "iopub.status.busy": "2022-11-16T04:36:33.040685Z",
     "iopub.status.idle": "2022-11-16T04:36:33.070264Z",
     "shell.execute_reply": "2022-11-16T04:36:33.069315Z",
     "shell.execute_reply.started": "2022-11-16T04:36:33.041046Z"
    }
   },
   "outputs": [],
   "source": [
    "from sklearn.impute import SimpleImputer\n",
    "cat_impu=SimpleImputer(strategy=\"most_frequent\")\n",
    "num_impu=SimpleImputer(strategy=\"median\" )\n",
    "xtr_cat=pd.DataFrame(cat_impu.fit_transform(xtr_cat),columns=cat_cols)\n",
    "xte_cat=pd.DataFrame(cat_impu.fit_transform(xte_cat),columns=cat_cols)\n",
    "xtr_num=pd.DataFrame(num_impu.fit_transform(xtr_num),columns=num_cols)\n",
    "xte_num=pd.DataFrame(num_impu.fit_transform(xte_num),columns=num_cols)"
   ]
  },
  {
   "cell_type": "code",
   "execution_count": 39,
   "metadata": {
    "execution": {
     "iopub.execute_input": "2022-11-16T04:36:33.072451Z",
     "iopub.status.busy": "2022-11-16T04:36:33.071993Z",
     "iopub.status.idle": "2022-11-16T04:36:33.093197Z",
     "shell.execute_reply": "2022-11-16T04:36:33.092284Z",
     "shell.execute_reply.started": "2022-11-16T04:36:33.072389Z"
    }
   },
   "outputs": [],
   "source": [
    "# Function to convert all object columns to categorical\n",
    "xtr_cat[cat_cols]=xtr_cat[cat_cols].astype(\"category\")\n",
    "xte_cat[cat_cols]=xte_cat[cat_cols].astype(\"category\")"
   ]
  },
  {
   "cell_type": "markdown",
   "metadata": {},
   "source": [
    "## Encode Categorical Value\n"
   ]
  },
  {
   "cell_type": "code",
   "execution_count": 40,
   "metadata": {
    "execution": {
     "iopub.execute_input": "2022-11-16T04:36:33.094728Z",
     "iopub.status.busy": "2022-11-16T04:36:33.094382Z",
     "iopub.status.idle": "2022-11-16T04:36:33.101198Z",
     "shell.execute_reply": "2022-11-16T04:36:33.100218Z",
     "shell.execute_reply.started": "2022-11-16T04:36:33.094698Z"
    }
   },
   "outputs": [],
   "source": [
    "from sklearn.preprocessing import LabelEncoder\n",
    "encoder = LabelEncoder()"
   ]
  },
  {
   "cell_type": "code",
   "execution_count": 41,
   "metadata": {
    "execution": {
     "iopub.execute_input": "2022-11-16T04:36:33.103633Z",
     "iopub.status.busy": "2022-11-16T04:36:33.103138Z",
     "iopub.status.idle": "2022-11-16T04:36:33.117989Z",
     "shell.execute_reply": "2022-11-16T04:36:33.116799Z",
     "shell.execute_reply.started": "2022-11-16T04:36:33.103583Z"
    }
   },
   "outputs": [],
   "source": [
    "for col in cat_cols:\n",
    "    xtr_cat[col]=encoder.fit_transform(xtr_cat[col])\n",
    "    xte_cat[col]=encoder.fit_transform(xte_cat[col])"
   ]
  },
  {
   "cell_type": "code",
   "execution_count": 42,
   "metadata": {
    "execution": {
     "iopub.execute_input": "2022-11-16T04:36:33.12009Z",
     "iopub.status.busy": "2022-11-16T04:36:33.119739Z",
     "iopub.status.idle": "2022-11-16T04:36:33.131085Z",
     "shell.execute_reply": "2022-11-16T04:36:33.130159Z",
     "shell.execute_reply.started": "2022-11-16T04:36:33.12006Z"
    }
   },
   "outputs": [
    {
     "data": {
      "text/html": [
       "<div>\n",
       "<style scoped>\n",
       "    .dataframe tbody tr th:only-of-type {\n",
       "        vertical-align: middle;\n",
       "    }\n",
       "\n",
       "    .dataframe tbody tr th {\n",
       "        vertical-align: top;\n",
       "    }\n",
       "\n",
       "    .dataframe thead th {\n",
       "        text-align: right;\n",
       "    }\n",
       "</style>\n",
       "<table border=\"1\" class=\"dataframe\">\n",
       "  <thead>\n",
       "    <tr style=\"text-align: right;\">\n",
       "      <th></th>\n",
       "      <th>Married</th>\n",
       "      <th>Dependents</th>\n",
       "      <th>Education</th>\n",
       "      <th>Self_Employed</th>\n",
       "      <th>Property_Area</th>\n",
       "    </tr>\n",
       "  </thead>\n",
       "  <tbody>\n",
       "    <tr>\n",
       "      <th>0</th>\n",
       "      <td>0</td>\n",
       "      <td>0</td>\n",
       "      <td>0</td>\n",
       "      <td>0</td>\n",
       "      <td>2</td>\n",
       "    </tr>\n",
       "    <tr>\n",
       "      <th>1</th>\n",
       "      <td>1</td>\n",
       "      <td>1</td>\n",
       "      <td>0</td>\n",
       "      <td>0</td>\n",
       "      <td>0</td>\n",
       "    </tr>\n",
       "    <tr>\n",
       "      <th>2</th>\n",
       "      <td>1</td>\n",
       "      <td>0</td>\n",
       "      <td>0</td>\n",
       "      <td>1</td>\n",
       "      <td>2</td>\n",
       "    </tr>\n",
       "    <tr>\n",
       "      <th>3</th>\n",
       "      <td>1</td>\n",
       "      <td>0</td>\n",
       "      <td>1</td>\n",
       "      <td>0</td>\n",
       "      <td>2</td>\n",
       "    </tr>\n",
       "    <tr>\n",
       "      <th>4</th>\n",
       "      <td>0</td>\n",
       "      <td>0</td>\n",
       "      <td>0</td>\n",
       "      <td>0</td>\n",
       "      <td>2</td>\n",
       "    </tr>\n",
       "  </tbody>\n",
       "</table>\n",
       "</div>"
      ],
      "text/plain": [
       "   Married  Dependents  Education  Self_Employed  Property_Area\n",
       "0        0           0          0              0              2\n",
       "1        1           1          0              0              0\n",
       "2        1           0          0              1              2\n",
       "3        1           0          1              0              2\n",
       "4        0           0          0              0              2"
      ]
     },
     "execution_count": 42,
     "metadata": {},
     "output_type": "execute_result"
    }
   ],
   "source": [
    "xtr_cat.head()"
   ]
  },
  {
   "cell_type": "code",
   "execution_count": 43,
   "metadata": {
    "execution": {
     "iopub.execute_input": "2022-11-16T04:36:33.132886Z",
     "iopub.status.busy": "2022-11-16T04:36:33.13226Z",
     "iopub.status.idle": "2022-11-16T04:36:33.146243Z",
     "shell.execute_reply": "2022-11-16T04:36:33.144935Z",
     "shell.execute_reply.started": "2022-11-16T04:36:33.13285Z"
    }
   },
   "outputs": [
    {
     "data": {
      "text/plain": [
       "(614, 13)"
      ]
     },
     "execution_count": 43,
     "metadata": {},
     "output_type": "execute_result"
    }
   ],
   "source": [
    "train_data.shape"
   ]
  },
  {
   "cell_type": "code",
   "execution_count": 44,
   "metadata": {
    "execution": {
     "iopub.execute_input": "2022-11-16T04:36:33.148825Z",
     "iopub.status.busy": "2022-11-16T04:36:33.147825Z",
     "iopub.status.idle": "2022-11-16T04:36:33.157667Z",
     "shell.execute_reply": "2022-11-16T04:36:33.156481Z",
     "shell.execute_reply.started": "2022-11-16T04:36:33.148778Z"
    }
   },
   "outputs": [],
   "source": [
    "xtr=pd.concat([xtr_num,xtr_cat],axis=1)"
   ]
  },
  {
   "cell_type": "code",
   "execution_count": 45,
   "metadata": {
    "execution": {
     "iopub.execute_input": "2022-11-16T04:36:33.160694Z",
     "iopub.status.busy": "2022-11-16T04:36:33.159422Z",
     "iopub.status.idle": "2022-11-16T04:36:33.169652Z",
     "shell.execute_reply": "2022-11-16T04:36:33.168765Z",
     "shell.execute_reply.started": "2022-11-16T04:36:33.160645Z"
    }
   },
   "outputs": [],
   "source": [
    "xte=pd.concat([xte_num,xte_cat],axis=1)"
   ]
  },
  {
   "cell_type": "code",
   "execution_count": 46,
   "metadata": {},
   "outputs": [
    {
     "data": {
      "text/plain": [
       "(367, 10)"
      ]
     },
     "execution_count": 46,
     "metadata": {},
     "output_type": "execute_result"
    }
   ],
   "source": [
    "xte.shape"
   ]
  },
  {
   "cell_type": "code",
   "execution_count": 47,
   "metadata": {},
   "outputs": [
    {
     "data": {
      "text/plain": [
       "(614, 10)"
      ]
     },
     "execution_count": 47,
     "metadata": {},
     "output_type": "execute_result"
    }
   ],
   "source": [
    "xtr.shape"
   ]
  },
  {
   "cell_type": "code",
   "execution_count": 48,
   "metadata": {
    "execution": {
     "iopub.execute_input": "2022-11-16T04:36:33.17197Z",
     "iopub.status.busy": "2022-11-16T04:36:33.170938Z",
     "iopub.status.idle": "2022-11-16T04:36:33.183996Z",
     "shell.execute_reply": "2022-11-16T04:36:33.182861Z",
     "shell.execute_reply.started": "2022-11-16T04:36:33.171926Z"
    }
   },
   "outputs": [
    {
     "data": {
      "text/plain": [
       "Index(['ApplicantIncome', 'CoapplicantIncome', 'LoanAmount',\n",
       "       'Loan_Amount_Term', 'Credit_History', 'Married', 'Dependents',\n",
       "       'Education', 'Self_Employed', 'Property_Area'],\n",
       "      dtype='object')"
      ]
     },
     "execution_count": 48,
     "metadata": {},
     "output_type": "execute_result"
    }
   ],
   "source": [
    "columnsxtr = xtr.columns\n",
    "columnsxtr"
   ]
  },
  {
   "cell_type": "code",
   "execution_count": 49,
   "metadata": {
    "execution": {
     "iopub.execute_input": "2022-11-16T04:36:33.185663Z",
     "iopub.status.busy": "2022-11-16T04:36:33.185251Z",
     "iopub.status.idle": "2022-11-16T04:36:33.194267Z",
     "shell.execute_reply": "2022-11-16T04:36:33.193178Z",
     "shell.execute_reply.started": "2022-11-16T04:36:33.185631Z"
    }
   },
   "outputs": [
    {
     "data": {
      "text/plain": [
       "Index(['ApplicantIncome', 'CoapplicantIncome', 'LoanAmount',\n",
       "       'Loan_Amount_Term', 'Credit_History', 'Married', 'Dependents',\n",
       "       'Education', 'Self_Employed', 'Property_Area'],\n",
       "      dtype='object')"
      ]
     },
     "execution_count": 49,
     "metadata": {},
     "output_type": "execute_result"
    }
   ],
   "source": [
    "columnsxte = xte.columns\n",
    "columnsxte"
   ]
  },
  {
   "cell_type": "markdown",
   "metadata": {},
   "source": [
    "# Scale Numeric Data"
   ]
  },
  {
   "cell_type": "code",
   "execution_count": 50,
   "metadata": {
    "execution": {
     "iopub.execute_input": "2022-11-16T04:36:33.196164Z",
     "iopub.status.busy": "2022-11-16T04:36:33.195627Z",
     "iopub.status.idle": "2022-11-16T04:36:33.210471Z",
     "shell.execute_reply": "2022-11-16T04:36:33.209299Z",
     "shell.execute_reply.started": "2022-11-16T04:36:33.196131Z"
    }
   },
   "outputs": [
    {
     "data": {
      "text/plain": [
       "StandardScaler()"
      ]
     },
     "execution_count": 50,
     "metadata": {},
     "output_type": "execute_result"
    }
   ],
   "source": [
    "from sklearn.preprocessing import StandardScaler\n",
    "scale = StandardScaler()\n",
    "scale.fit(xtr)"
   ]
  },
  {
   "cell_type": "code",
   "execution_count": 51,
   "metadata": {
    "execution": {
     "iopub.execute_input": "2022-11-16T04:36:33.212802Z",
     "iopub.status.busy": "2022-11-16T04:36:33.211806Z",
     "iopub.status.idle": "2022-11-16T04:36:33.220855Z",
     "shell.execute_reply": "2022-11-16T04:36:33.219741Z",
     "shell.execute_reply.started": "2022-11-16T04:36:33.212766Z"
    }
   },
   "outputs": [],
   "source": [
    "xtr = pd.DataFrame(scale.transform(xtr),columns=columnsxtr)"
   ]
  },
  {
   "cell_type": "code",
   "execution_count": 52,
   "metadata": {
    "execution": {
     "iopub.execute_input": "2022-11-16T04:36:33.223616Z",
     "iopub.status.busy": "2022-11-16T04:36:33.222958Z",
     "iopub.status.idle": "2022-11-16T04:36:33.234258Z",
     "shell.execute_reply": "2022-11-16T04:36:33.233454Z",
     "shell.execute_reply.started": "2022-11-16T04:36:33.22357Z"
    },
    "scrolled": true
   },
   "outputs": [
    {
     "data": {
      "text/plain": [
       "ApplicantIncome      0\n",
       "CoapplicantIncome    0\n",
       "LoanAmount           0\n",
       "Loan_Amount_Term     0\n",
       "Credit_History       0\n",
       "Married              0\n",
       "Dependents           0\n",
       "Education            0\n",
       "Self_Employed        0\n",
       "Property_Area        0\n",
       "dtype: int64"
      ]
     },
     "execution_count": 52,
     "metadata": {},
     "output_type": "execute_result"
    }
   ],
   "source": [
    "xtr.isnull().sum()"
   ]
  },
  {
   "cell_type": "code",
   "execution_count": 53,
   "metadata": {
    "execution": {
     "iopub.execute_input": "2022-11-16T04:36:33.236563Z",
     "iopub.status.busy": "2022-11-16T04:36:33.235545Z",
     "iopub.status.idle": "2022-11-16T04:36:33.246678Z",
     "shell.execute_reply": "2022-11-16T04:36:33.245519Z",
     "shell.execute_reply.started": "2022-11-16T04:36:33.236529Z"
    }
   },
   "outputs": [
    {
     "data": {
      "text/plain": [
       "ApplicantIncome      0\n",
       "CoapplicantIncome    0\n",
       "LoanAmount           0\n",
       "Loan_Amount_Term     0\n",
       "Credit_History       0\n",
       "Married              0\n",
       "Dependents           0\n",
       "Education            0\n",
       "Self_Employed        0\n",
       "Property_Area        0\n",
       "dtype: int64"
      ]
     },
     "execution_count": 53,
     "metadata": {},
     "output_type": "execute_result"
    }
   ],
   "source": [
    "xte.isnull().sum()"
   ]
  },
  {
   "cell_type": "code",
   "execution_count": 54,
   "metadata": {
    "execution": {
     "iopub.execute_input": "2022-11-16T04:36:33.248622Z",
     "iopub.status.busy": "2022-11-16T04:36:33.247916Z",
     "iopub.status.idle": "2022-11-16T04:36:33.266072Z",
     "shell.execute_reply": "2022-11-16T04:36:33.264849Z",
     "shell.execute_reply.started": "2022-11-16T04:36:33.248589Z"
    }
   },
   "outputs": [
    {
     "name": "stdout",
     "output_type": "stream",
     "text": [
      "<class 'pandas.core.frame.DataFrame'>\n",
      "RangeIndex: 367 entries, 0 to 366\n",
      "Data columns (total 10 columns):\n",
      " #   Column             Non-Null Count  Dtype  \n",
      "---  ------             --------------  -----  \n",
      " 0   ApplicantIncome    367 non-null    float64\n",
      " 1   CoapplicantIncome  367 non-null    float64\n",
      " 2   LoanAmount         367 non-null    float64\n",
      " 3   Loan_Amount_Term   367 non-null    float64\n",
      " 4   Credit_History     367 non-null    float64\n",
      " 5   Married            367 non-null    int32  \n",
      " 6   Dependents         367 non-null    int32  \n",
      " 7   Education          367 non-null    int32  \n",
      " 8   Self_Employed      367 non-null    int32  \n",
      " 9   Property_Area      367 non-null    int32  \n",
      "dtypes: float64(5), int32(5)\n",
      "memory usage: 21.6 KB\n"
     ]
    }
   ],
   "source": [
    "xte.info()"
   ]
  },
  {
   "cell_type": "code",
   "execution_count": 55,
   "metadata": {
    "execution": {
     "iopub.execute_input": "2022-11-16T04:36:33.267948Z",
     "iopub.status.busy": "2022-11-16T04:36:33.267484Z",
     "iopub.status.idle": "2022-11-16T04:36:33.277902Z",
     "shell.execute_reply": "2022-11-16T04:36:33.276442Z",
     "shell.execute_reply.started": "2022-11-16T04:36:33.267903Z"
    }
   },
   "outputs": [],
   "source": [
    "xte = pd.DataFrame(scale.transform(xte),columns=columnsxte)"
   ]
  },
  {
   "cell_type": "code",
   "execution_count": 56,
   "metadata": {
    "execution": {
     "iopub.execute_input": "2022-11-16T04:36:33.279778Z",
     "iopub.status.busy": "2022-11-16T04:36:33.279326Z",
     "iopub.status.idle": "2022-11-16T04:36:33.301421Z",
     "shell.execute_reply": "2022-11-16T04:36:33.300285Z",
     "shell.execute_reply.started": "2022-11-16T04:36:33.279735Z"
    }
   },
   "outputs": [
    {
     "data": {
      "text/html": [
       "<div>\n",
       "<style scoped>\n",
       "    .dataframe tbody tr th:only-of-type {\n",
       "        vertical-align: middle;\n",
       "    }\n",
       "\n",
       "    .dataframe tbody tr th {\n",
       "        vertical-align: top;\n",
       "    }\n",
       "\n",
       "    .dataframe thead th {\n",
       "        text-align: right;\n",
       "    }\n",
       "</style>\n",
       "<table border=\"1\" class=\"dataframe\">\n",
       "  <thead>\n",
       "    <tr style=\"text-align: right;\">\n",
       "      <th></th>\n",
       "      <th>ApplicantIncome</th>\n",
       "      <th>CoapplicantIncome</th>\n",
       "      <th>LoanAmount</th>\n",
       "      <th>Loan_Amount_Term</th>\n",
       "      <th>Credit_History</th>\n",
       "      <th>Married</th>\n",
       "      <th>Dependents</th>\n",
       "      <th>Education</th>\n",
       "      <th>Self_Employed</th>\n",
       "      <th>Property_Area</th>\n",
       "    </tr>\n",
       "  </thead>\n",
       "  <tbody>\n",
       "    <tr>\n",
       "      <th>0</th>\n",
       "      <td>0.051857</td>\n",
       "      <td>-0.554487</td>\n",
       "      <td>-0.425428</td>\n",
       "      <td>0.273231</td>\n",
       "      <td>0.411733</td>\n",
       "      <td>0.728816</td>\n",
       "      <td>-0.737806</td>\n",
       "      <td>-0.528362</td>\n",
       "      <td>-0.392601</td>\n",
       "      <td>1.223298</td>\n",
       "    </tr>\n",
       "    <tr>\n",
       "      <th>1</th>\n",
       "      <td>-0.381297</td>\n",
       "      <td>-0.041468</td>\n",
       "      <td>-0.235040</td>\n",
       "      <td>0.273231</td>\n",
       "      <td>0.411733</td>\n",
       "      <td>0.728816</td>\n",
       "      <td>0.253470</td>\n",
       "      <td>-0.528362</td>\n",
       "      <td>-0.392601</td>\n",
       "      <td>1.223298</td>\n",
       "    </tr>\n",
       "    <tr>\n",
       "      <th>2</th>\n",
       "      <td>-0.066097</td>\n",
       "      <td>0.061136</td>\n",
       "      <td>0.740701</td>\n",
       "      <td>0.273231</td>\n",
       "      <td>0.411733</td>\n",
       "      <td>0.728816</td>\n",
       "      <td>1.244745</td>\n",
       "      <td>-0.528362</td>\n",
       "      <td>-0.392601</td>\n",
       "      <td>1.223298</td>\n",
       "    </tr>\n",
       "    <tr>\n",
       "      <th>3</th>\n",
       "      <td>-0.501872</td>\n",
       "      <td>0.316278</td>\n",
       "      <td>-0.544421</td>\n",
       "      <td>0.273231</td>\n",
       "      <td>0.411733</td>\n",
       "      <td>0.728816</td>\n",
       "      <td>1.244745</td>\n",
       "      <td>-0.528362</td>\n",
       "      <td>-0.392601</td>\n",
       "      <td>1.223298</td>\n",
       "    </tr>\n",
       "    <tr>\n",
       "      <th>4</th>\n",
       "      <td>-0.348532</td>\n",
       "      <td>-0.554487</td>\n",
       "      <td>-0.806205</td>\n",
       "      <td>0.273231</td>\n",
       "      <td>0.411733</td>\n",
       "      <td>-1.372089</td>\n",
       "      <td>-0.737806</td>\n",
       "      <td>1.892641</td>\n",
       "      <td>-0.392601</td>\n",
       "      <td>1.223298</td>\n",
       "    </tr>\n",
       "  </tbody>\n",
       "</table>\n",
       "</div>"
      ],
      "text/plain": [
       "   ApplicantIncome  CoapplicantIncome  LoanAmount  Loan_Amount_Term  \\\n",
       "0         0.051857          -0.554487   -0.425428          0.273231   \n",
       "1        -0.381297          -0.041468   -0.235040          0.273231   \n",
       "2        -0.066097           0.061136    0.740701          0.273231   \n",
       "3        -0.501872           0.316278   -0.544421          0.273231   \n",
       "4        -0.348532          -0.554487   -0.806205          0.273231   \n",
       "\n",
       "   Credit_History   Married  Dependents  Education  Self_Employed  \\\n",
       "0        0.411733  0.728816   -0.737806  -0.528362      -0.392601   \n",
       "1        0.411733  0.728816    0.253470  -0.528362      -0.392601   \n",
       "2        0.411733  0.728816    1.244745  -0.528362      -0.392601   \n",
       "3        0.411733  0.728816    1.244745  -0.528362      -0.392601   \n",
       "4        0.411733 -1.372089   -0.737806   1.892641      -0.392601   \n",
       "\n",
       "   Property_Area  \n",
       "0       1.223298  \n",
       "1       1.223298  \n",
       "2       1.223298  \n",
       "3       1.223298  \n",
       "4       1.223298  "
      ]
     },
     "execution_count": 56,
     "metadata": {},
     "output_type": "execute_result"
    }
   ],
   "source": [
    "xte.head()"
   ]
  },
  {
   "cell_type": "code",
   "execution_count": 81,
   "metadata": {
    "execution": {
     "iopub.execute_input": "2022-11-16T04:36:33.303828Z",
     "iopub.status.busy": "2022-11-16T04:36:33.303327Z",
     "iopub.status.idle": "2022-11-16T04:36:33.837632Z",
     "shell.execute_reply": "2022-11-16T04:36:33.836724Z",
     "shell.execute_reply.started": "2022-11-16T04:36:33.303783Z"
    }
   },
   "outputs": [
    {
     "data": {
      "image/png": "[encoded data removed]",
      "text/plain": [
       "<Figure size 640x480 with 2 Axes>"
      ]
     },
     "metadata": {},
     "output_type": "display_data"
    }
   ],
   "source": [
    "# plotting a correlation heatmap\n",
    "dataplot = sns.heatmap(xte.corr(), cmap=\"YlGnBu\", annot=True)\n",
    " \n",
    "# displaying heatmap\n",
    "plt.show()"
   ]
  },
  {
   "cell_type": "markdown",
   "metadata": {},
   "source": [
    "## Split Dataset for Training and Testing"
   ]
  },
  {
   "cell_type": "code",
   "execution_count": 58,
   "metadata": {
    "execution": {
     "iopub.execute_input": "2022-11-16T04:36:33.839732Z",
     "iopub.status.busy": "2022-11-16T04:36:33.839137Z",
     "iopub.status.idle": "2022-11-16T04:36:33.84888Z",
     "shell.execute_reply": "2022-11-16T04:36:33.847706Z",
     "shell.execute_reply.started": "2022-11-16T04:36:33.839695Z"
    }
   },
   "outputs": [
    {
     "name": "stdout",
     "output_type": "stream",
     "text": [
      "(460, 10)\n",
      "(154, 10)\n",
      "(460, 1)\n",
      "(154, 1)\n"
     ]
    }
   ],
   "source": [
    "from sklearn.model_selection import train_test_split\n",
    "x_train,x_test,y_train,y_test = train_test_split(xtr,ytr,test_size=0.25,random_state=142)\n",
    "print(x_train.shape)\n",
    "print(x_test.shape)\n",
    "print(y_train.shape)\n",
    "print(y_test.shape)"
   ]
  },
  {
   "cell_type": "markdown",
   "metadata": {},
   "source": [
    "## Model Building\n"
   ]
  },
  {
   "cell_type": "code",
   "execution_count": 59,
   "metadata": {
    "execution": {
     "iopub.execute_input": "2022-11-16T04:36:33.850865Z",
     "iopub.status.busy": "2022-11-16T04:36:33.850529Z",
     "iopub.status.idle": "2022-11-16T04:36:33.864569Z",
     "shell.execute_reply": "2022-11-16T04:36:33.86344Z",
     "shell.execute_reply.started": "2022-11-16T04:36:33.850834Z"
    }
   },
   "outputs": [],
   "source": [
    "\n",
    "def evaluate_model(model, x_test, y_test):\n",
    "    from sklearn import metrics\n",
    "\n",
    "    # Predict Test Data \n",
    "    y_pred = model.predict(x_test)\n",
    "\n",
    "    # Calculate accuracy, precision, recall, f1-score \n",
    "    acc = metrics.accuracy_score(y_test, y_pred)\n",
    "    prec = metrics.precision_score(y_test, y_pred)\n",
    "    rec = metrics.recall_score(y_test, y_pred)\n",
    "    f1 = metrics.f1_score(y_test, y_pred)\n",
    "\n",
    "    # Display confussion matrix\n",
    "    cm = metrics.confusion_matrix(y_test, y_pred)\n",
    "    #\n",
    "\n",
    "\n",
    "    return {'acc': acc, 'prec': prec, 'rec': rec, 'f1': f1,  'cm': cm}"
   ]
  },
  {
   "cell_type": "markdown",
   "metadata": {},
   "source": [
    "## Decision Tree"
   ]
  },
  {
   "cell_type": "markdown",
   "metadata": {},
   "source": [
    "### Building Model"
   ]
  },
  {
   "cell_type": "code",
   "execution_count": 60,
   "metadata": {
    "execution": {
     "iopub.execute_input": "2022-11-16T04:36:33.866892Z",
     "iopub.status.busy": "2022-11-16T04:36:33.866211Z",
     "iopub.status.idle": "2022-11-16T04:36:33.889704Z",
     "shell.execute_reply": "2022-11-16T04:36:33.888637Z",
     "shell.execute_reply.started": "2022-11-16T04:36:33.866856Z"
    }
   },
   "outputs": [
    {
     "data": {
      "text/plain": [
       "DecisionTreeClassifier(random_state=42)"
      ]
     },
     "execution_count": 60,
     "metadata": {},
     "output_type": "execute_result"
    }
   ],
   "source": [
    "from sklearn import tree\n",
    "\n",
    "# Building Decision Tree model \n",
    "dtc = tree.DecisionTreeClassifier(random_state=42)\n",
    "dtc.fit(x_train, y_train)"
   ]
  },
  {
   "cell_type": "markdown",
   "metadata": {},
   "source": [
    "### Model Evaluation"
   ]
  },
  {
   "cell_type": "code",
   "execution_count": 61,
   "metadata": {
    "execution": {
     "iopub.execute_input": "2022-11-16T04:36:33.892207Z",
     "iopub.status.busy": "2022-11-16T04:36:33.891455Z",
     "iopub.status.idle": "2022-11-16T04:36:33.914671Z",
     "shell.execute_reply": "2022-11-16T04:36:33.913433Z",
     "shell.execute_reply.started": "2022-11-16T04:36:33.892168Z"
    }
   },
   "outputs": [
    {
     "name": "stdout",
     "output_type": "stream",
     "text": [
      "Accuracy: 0.7207792207792207\n",
      "Precision: 0.819047619047619\n",
      "Recall: 0.7818181818181819\n",
      "F1 Score: 0.7999999999999999\n",
      "Confusion Matrix:\n",
      " [[25 19]\n",
      " [24 86]]\n"
     ]
    }
   ],
   "source": [
    "# Evaluate Model\n",
    "dtc_eval = evaluate_model(dtc, x_test, y_test)\n",
    "\n",
    "# Print result\n",
    "print('Accuracy:', dtc_eval['acc'])\n",
    "print('Precision:', dtc_eval['prec'])\n",
    "print('Recall:', dtc_eval['rec'])\n",
    "print('F1 Score:', dtc_eval['f1'])\n",
    "print('Confusion Matrix:\\n', dtc_eval['cm'])"
   ]
  },
  {
   "cell_type": "markdown",
   "metadata": {},
   "source": [
    "## Random Forest"
   ]
  },
  {
   "cell_type": "markdown",
   "metadata": {},
   "source": [
    "### Building Model"
   ]
  },
  {
   "cell_type": "code",
   "execution_count": 62,
   "metadata": {
    "execution": {
     "iopub.execute_input": "2022-11-16T04:36:33.916679Z",
     "iopub.status.busy": "2022-11-16T04:36:33.91618Z",
     "iopub.status.idle": "2022-11-16T04:36:34.116613Z",
     "shell.execute_reply": "2022-11-16T04:36:34.115277Z",
     "shell.execute_reply.started": "2022-11-16T04:36:33.91663Z"
    }
   },
   "outputs": [
    {
     "name": "stderr",
     "output_type": "stream",
     "text": [
      "C:\\Users\\Aparna.DESKTOP-R4D5RJ8\\AppData\\Local\\Temp\\ipykernel_9996\\2938708906.py:5: DataConversionWarning: A column-vector y was passed when a 1d array was expected. Please change the shape of y to (n_samples,), for example using ravel().\n",
      "  rf.fit(x_train, y_train)\n"
     ]
    },
    {
     "data": {
      "text/plain": [
       "RandomForestClassifier(random_state=42)"
      ]
     },
     "execution_count": 62,
     "metadata": {},
     "output_type": "execute_result"
    }
   ],
   "source": [
    "from sklearn.ensemble import RandomForestClassifier\n",
    "\n",
    "# Building Random Forest model \n",
    "rf = RandomForestClassifier(random_state=42)\n",
    "rf.fit(x_train, y_train)"
   ]
  },
  {
   "cell_type": "markdown",
   "metadata": {},
   "source": [
    "### Model Evaluation"
   ]
  },
  {
   "cell_type": "code",
   "execution_count": 63,
   "metadata": {
    "execution": {
     "iopub.execute_input": "2022-11-16T04:36:34.118893Z",
     "iopub.status.busy": "2022-11-16T04:36:34.118424Z",
     "iopub.status.idle": "2022-11-16T04:36:34.17346Z",
     "shell.execute_reply": "2022-11-16T04:36:34.17208Z",
     "shell.execute_reply.started": "2022-11-16T04:36:34.118847Z"
    }
   },
   "outputs": [
    {
     "name": "stdout",
     "output_type": "stream",
     "text": [
      "Accuracy: 0.7987012987012987\n",
      "Precision: 0.816\n",
      "Recall: 0.9272727272727272\n",
      "F1 Score: 0.8680851063829788\n",
      "Confusion Matrix:\n",
      " [[ 21  23]\n",
      " [  8 102]]\n"
     ]
    }
   ],
   "source": [
    "# Evaluate Model\n",
    "rf_eval = evaluate_model(rf, x_test, y_test)\n",
    "\n",
    "# Print result\n",
    "print('Accuracy:', rf_eval['acc'])\n",
    "print('Precision:', rf_eval['prec'])\n",
    "print('Recall:', rf_eval['rec'])\n",
    "print('F1 Score:', rf_eval['f1'])\n",
    "print('Confusion Matrix:\\n', rf_eval['cm'])"
   ]
  },
  {
   "cell_type": "markdown",
   "metadata": {},
   "source": [
    "## K-Nearest Neighbors"
   ]
  },
  {
   "cell_type": "markdown",
   "metadata": {},
   "source": [
    "### Building Model"
   ]
  },
  {
   "cell_type": "code",
   "execution_count": 64,
   "metadata": {
    "execution": {
     "iopub.execute_input": "2022-11-16T04:36:34.215314Z",
     "iopub.status.busy": "2022-11-16T04:36:34.214415Z",
     "iopub.status.idle": "2022-11-16T04:36:34.227262Z",
     "shell.execute_reply": "2022-11-16T04:36:34.226082Z",
     "shell.execute_reply.started": "2022-11-16T04:36:34.21527Z"
    }
   },
   "outputs": [
    {
     "name": "stderr",
     "output_type": "stream",
     "text": [
      "C:\\Users\\Aparna.DESKTOP-R4D5RJ8\\anaconda3\\lib\\site-packages\\sklearn\\neighbors\\_classification.py:198: DataConversionWarning: A column-vector y was passed when a 1d array was expected. Please change the shape of y to (n_samples,), for example using ravel().\n",
      "  return self._fit(X, y)\n"
     ]
    },
    {
     "data": {
      "text/plain": [
       "KNeighborsClassifier()"
      ]
     },
     "execution_count": 64,
     "metadata": {},
     "output_type": "execute_result"
    }
   ],
   "source": [
    "from sklearn.neighbors import KNeighborsClassifier\n",
    "\n",
    "# Building KNN model \n",
    "knn = KNeighborsClassifier()\n",
    "knn.fit(x_train, y_train)"
   ]
  },
  {
   "cell_type": "markdown",
   "metadata": {},
   "source": [
    "### Model Evaluation"
   ]
  },
  {
   "cell_type": "code",
   "execution_count": 65,
   "metadata": {
    "execution": {
     "iopub.execute_input": "2022-11-16T04:36:34.22913Z",
     "iopub.status.busy": "2022-11-16T04:36:34.228749Z",
     "iopub.status.idle": "2022-11-16T04:36:34.258545Z",
     "shell.execute_reply": "2022-11-16T04:36:34.257613Z",
     "shell.execute_reply.started": "2022-11-16T04:36:34.229098Z"
    }
   },
   "outputs": [
    {
     "name": "stdout",
     "output_type": "stream",
     "text": [
      "Accuracy: 0.8051948051948052\n",
      "Precision: 0.8125\n",
      "Recall: 0.9454545454545454\n",
      "F1 Score: 0.8739495798319329\n",
      "Confusion Matrix:\n",
      " [[ 20  24]\n",
      " [  6 104]]\n"
     ]
    },
    {
     "name": "stderr",
     "output_type": "stream",
     "text": [
      "C:\\Users\\Aparna.DESKTOP-R4D5RJ8\\anaconda3\\lib\\site-packages\\sklearn\\neighbors\\_classification.py:228: FutureWarning: Unlike other reduction functions (e.g. `skew`, `kurtosis`), the default behavior of `mode` typically preserves the axis it acts along. In SciPy 1.11.0, this behavior will change: the default value of `keepdims` will become False, the `axis` over which the statistic is taken will be eliminated, and the value None will no longer be accepted. Set `keepdims` to True or False to avoid this warning.\n",
      "  mode, _ = stats.mode(_y[neigh_ind, k], axis=1)\n"
     ]
    }
   ],
   "source": [
    "# Evaluate Model\n",
    "knn_eval = evaluate_model(knn, x_test, y_test)\n",
    "\n",
    "# Print result\n",
    "print('Accuracy:', knn_eval['acc'])\n",
    "print('Precision:', knn_eval['prec'])\n",
    "print('Recall:', knn_eval['rec'])\n",
    "print('F1 Score:', knn_eval['f1'])\n",
    "print('Confusion Matrix:\\n', knn_eval['cm'])"
   ]
  },
  {
   "cell_type": "markdown",
   "metadata": {},
   "source": [
    "## model comparison"
   ]
  },
  {
   "cell_type": "code",
   "execution_count": 66,
   "metadata": {
    "execution": {
     "iopub.execute_input": "2022-11-16T04:36:34.260591Z",
     "iopub.status.busy": "2022-11-16T04:36:34.260218Z",
     "iopub.status.idle": "2022-11-16T04:36:34.717736Z",
     "shell.execute_reply": "2022-11-16T04:36:34.716498Z",
     "shell.execute_reply.started": "2022-11-16T04:36:34.260559Z"
    }
   },
   "outputs": [
    {
     "data": {
      "image/png": "[encoded data removed]",
      "text/plain": [
       "<Figure size 1400x700 with 1 Axes>"
      ]
     },
     "metadata": {},
     "output_type": "display_data"
    }
   ],
   "source": [
    "# Intitialize figure with two plots\n",
    "fig, (ax1) = plt.subplots(1)\n",
    "fig.suptitle('Model Comparison', fontsize=16, fontweight='bold')\n",
    "fig.set_figheight(7)\n",
    "fig.set_figwidth(14)\n",
    "fig.set_facecolor('white')\n",
    "\n",
    "# First plot\n",
    "## set bar size\n",
    "barWidth = 0.3\n",
    "dtc_score = [dtc_eval['acc'], dtc_eval['prec'], dtc_eval['rec'], dtc_eval['f1']]\n",
    "rf_score = [rf_eval['acc'], rf_eval['prec'], rf_eval['rec'], rf_eval['f1']]\n",
    "knn_score = [knn_eval['acc'], knn_eval['prec'], knn_eval['rec'], knn_eval['f1']]\n",
    "\n",
    "## Set position of bar on X axis\n",
    "r1 = np.arange(len(dtc_score))\n",
    "r2 = [x + barWidth for x in r1]\n",
    "r3 = [x + barWidth for x in r2]\n",
    "\n",
    "## Make the plot\n",
    "ax1.bar(r1, dtc_score, width=barWidth, edgecolor='white', label='Decision Tree')\n",
    "ax1.bar(r2, rf_score, width=barWidth, edgecolor='white', label='Random Forest')\n",
    "ax1.bar(r3, knn_score, width=barWidth, edgecolor='white', label='K-Nearest Neighbors')\n",
    "\n",
    "## Configure x and y axis\n",
    "ax1.set_xlabel('Metrics', fontweight='bold')\n",
    "labels = ['Accuracy', 'Precision', 'Recall', 'F1']\n",
    "ax1.set_xticks([r + (barWidth * 1.5) for r in range(len(dtc_score))], )\n",
    "ax1.set_xticklabels(labels)\n",
    "ax1.set_ylabel('Score', fontweight='bold')\n",
    "ax1.set_ylim(0, 1)\n",
    "\n",
    "## Create legend & title\n",
    "ax1.set_title('Evaluation Metrics', fontsize=14, fontweight='bold')\n",
    "ax1.legend()\n",
    "\n",
    "plt.show()"
   ]
  },
  {
   "cell_type": "markdown",
   "metadata": {},
   "source": [
    "From the figures above we can see that our knn model tops the other models in 3 of the 4 metrics we evaluate, except precision. \n",
    "So we can assume that knn is the right choice to solve our problem."
   ]
  },
  {
   "cell_type": "code",
   "execution_count": 67,
   "metadata": {
    "execution": {
     "iopub.execute_input": "2022-11-16T04:36:34.719678Z",
     "iopub.status.busy": "2022-11-16T04:36:34.719259Z"
    }
   },
   "outputs": [
    {
     "name": "stdout",
     "output_type": "stream",
     "text": [
      "Fitting 5 folds for each of 243 candidates, totalling 1215 fits\n"
     ]
    },
    {
     "name": "stderr",
     "output_type": "stream",
     "text": [
      "C:\\Users\\Aparna.DESKTOP-R4D5RJ8\\anaconda3\\lib\\site-packages\\sklearn\\model_selection\\_search.py:926: DataConversionWarning: A column-vector y was passed when a 1d array was expected. Please change the shape of y to (n_samples,), for example using ravel().\n",
      "  self.best_estimator_.fit(X, y, **fit_params)\n"
     ]
    },
    {
     "data": {
      "text/plain": [
       "{'max_depth': 50,\n",
       " 'max_features': 2,\n",
       " 'min_samples_leaf': 3,\n",
       " 'min_samples_split': 10,\n",
       " 'n_estimators': 100}"
      ]
     },
     "execution_count": 67,
     "metadata": {},
     "output_type": "execute_result"
    }
   ],
   "source": [
    "from sklearn.model_selection import GridSearchCV\n",
    "\n",
    "# Create the parameter grid based on the results of random search \n",
    "param_grid = {\n",
    "    'max_depth': [50, 80, 100],\n",
    "    'max_features': [2, 3, 4],\n",
    "    'min_samples_leaf': [3, 4, 5],\n",
    "    'min_samples_split': [8, 10, 12],\n",
    "    'n_estimators': [100, 300, 500]\n",
    "}\n",
    "\n",
    "# Create a base model\n",
    "rf_grids = RandomForestClassifier(random_state=0)\n",
    "\n",
    "# Initiate the grid search model\n",
    "grid_search = GridSearchCV(estimator=rf_grids, param_grid=param_grid, scoring='recall',\n",
    "                           cv=5, n_jobs=-1, verbose=2)\n",
    "\n",
    "# Fit the grid search to the data\n",
    "grid_search.fit(x_train, y_train)\n",
    "\n",
    "grid_search.best_params_"
   ]
  },
  {
   "cell_type": "code",
   "execution_count": 68,
   "metadata": {},
   "outputs": [
    {
     "name": "stdout",
     "output_type": "stream",
     "text": [
      "Accuracy: 0.8311688311688312\n",
      "Precision: 0.8181818181818182\n",
      "Recall: 0.9818181818181818\n",
      "F1 Score: 0.8925619834710744\n",
      "Confusion Matrix:\n",
      " [[ 20  24]\n",
      " [  2 108]]\n"
     ]
    }
   ],
   "source": [
    "# Select best model with best fit\n",
    "best_grid = grid_search.best_estimator_\n",
    "\n",
    "# Evaluate Model\n",
    "best_grid_eval = evaluate_model(best_grid, x_test, y_test)\n",
    "\n",
    "# Print result\n",
    "print('Accuracy:', best_grid_eval['acc'])\n",
    "print('Precision:', best_grid_eval['prec'])\n",
    "print('Recall:', best_grid_eval['rec'])\n",
    "print('F1 Score:', best_grid_eval['f1'])\n",
    "print('Confusion Matrix:\\n', best_grid_eval['cm'])"
   ]
  },
  {
   "cell_type": "code",
   "execution_count": 69,
   "metadata": {},
   "outputs": [
    {
     "data": {
      "image/png": "[encoded data removed]",
      "text/plain": [
       "<Figure size 1400x700 with 1 Axes>"
      ]
     },
     "metadata": {},
     "output_type": "display_data"
    },
    {
     "name": "stdout",
     "output_type": "stream",
     "text": [
      "Change of 4.07% on accuracy.\n",
      "Change of 0.27% on precision.\n",
      "Change of 5.88% on recall.\n",
      "Change of 2.82% on F1 score.\n"
     ]
    }
   ],
   "source": [
    "# Intitialize figure with two plots\n",
    "fig, (ax1) = plt.subplots(1)\n",
    "fig.suptitle('Model Comparison', fontsize=16, fontweight='bold')\n",
    "fig.set_figheight(7)\n",
    "fig.set_figwidth(14)\n",
    "fig.set_facecolor('white')\n",
    "\n",
    "# First plot\n",
    "## set bar size\n",
    "barWidth = 0.2\n",
    "rf_score = [rf_eval['acc'], rf_eval['prec'], rf_eval['rec'], rf_eval['f1']]\n",
    "best_grid_score = [best_grid_eval['acc'], best_grid_eval['prec'], best_grid_eval['rec'], best_grid_eval['f1']]\n",
    "\n",
    "## Set position of bar on X axis\n",
    "r1 = np.arange(len(rf_score))\n",
    "r2 = [x + barWidth for x in r1]\n",
    "\n",
    "## Make the plot\n",
    "ax1.bar(r1, rf_score, width=barWidth, edgecolor='white', label='Random Forest (Base Line)')\n",
    "ax1.bar(r2, best_grid_score, width=barWidth, edgecolor='white', label='Random Forest (Optimized)')\n",
    "\n",
    "## Add xticks on the middle of the group bars\n",
    "ax1.set_xlabel('Metrics', fontweight='bold')\n",
    "labels = ['Accuracy', 'Precision', 'Recall', 'F1']\n",
    "ax1.set_xticks([r + (barWidth * 0.5) for r in range(len(dtc_score))], )\n",
    "ax1.set_xticklabels(labels)\n",
    "ax1.set_ylabel('Score', fontweight='bold')\n",
    "# ax1.set_ylim(0, 1)\n",
    "\n",
    "## Create legend & Show graphic\n",
    "ax1.set_title('Evaluation Metrics', fontsize=14, fontweight='bold')\n",
    "ax1.legend()\n",
    "\n",
    "plt.show()\n",
    "\n",
    "print('Change of {:0.2f}% on accuracy.'.format(100 * ((best_grid_eval['acc'] - rf_eval['acc']) / rf_eval['acc'])))\n",
    "print('Change of {:0.2f}% on precision.'.format(100 * ((best_grid_eval['prec'] - rf_eval['prec']) / rf_eval['prec'])))\n",
    "print('Change of {:0.2f}% on recall.'.format(100 * ((best_grid_eval['rec'] - rf_eval['rec']) / rf_eval['rec'])))\n",
    "print('Change of {:0.2f}% on F1 score.'.format(100 * ((best_grid_eval['f1'] - rf_eval['f1']) / rf_eval['f1'])))"
   ]
  },
  {
   "cell_type": "markdown",
   "metadata": {},
   "source": [
    "The result show that our optimised performed little bit better than the original model. The optimised models show an increase in 3 out of the 4 metrics but perform worse in the other metrics."
   ]
  },
  {
   "cell_type": "markdown",
   "metadata": {},
   "source": [
    "## Predictions for given test data"
   ]
  },
  {
   "cell_type": "code",
   "execution_count": 70,
   "metadata": {},
   "outputs": [],
   "source": [
    "from sklearn.metrics import accuracy_score\n",
    "predictions = best_grid.predict(xte)\n",
    "Target = pd.DataFrame(predictions,columns=['Loan_Status'])"
   ]
  },
  {
   "cell_type": "code",
   "execution_count": 71,
   "metadata": {},
   "outputs": [],
   "source": [
    "Loan_ID =pd.DataFrame(test_data1.Loan_ID)"
   ]
  },
  {
   "cell_type": "code",
   "execution_count": 72,
   "metadata": {},
   "outputs": [],
   "source": [
    "pred=pd.concat([Loan_ID,Target],axis=1)"
   ]
  },
  {
   "cell_type": "code",
   "execution_count": 73,
   "metadata": {},
   "outputs": [
    {
     "data": {
      "text/html": [
       "<div>\n",
       "<style scoped>\n",
       "    .dataframe tbody tr th:only-of-type {\n",
       "        vertical-align: middle;\n",
       "    }\n",
       "\n",
       "    .dataframe tbody tr th {\n",
       "        vertical-align: top;\n",
       "    }\n",
       "\n",
       "    .dataframe thead th {\n",
       "        text-align: right;\n",
       "    }\n",
       "</style>\n",
       "<table border=\"1\" class=\"dataframe\">\n",
       "  <thead>\n",
       "    <tr style=\"text-align: right;\">\n",
       "      <th></th>\n",
       "      <th>Loan_ID</th>\n",
       "      <th>Loan_Status</th>\n",
       "    </tr>\n",
       "  </thead>\n",
       "  <tbody>\n",
       "    <tr>\n",
       "      <th>0</th>\n",
       "      <td>LP001015</td>\n",
       "      <td>1</td>\n",
       "    </tr>\n",
       "    <tr>\n",
       "      <th>1</th>\n",
       "      <td>LP001022</td>\n",
       "      <td>1</td>\n",
       "    </tr>\n",
       "    <tr>\n",
       "      <th>2</th>\n",
       "      <td>LP001031</td>\n",
       "      <td>1</td>\n",
       "    </tr>\n",
       "    <tr>\n",
       "      <th>3</th>\n",
       "      <td>LP001035</td>\n",
       "      <td>1</td>\n",
       "    </tr>\n",
       "    <tr>\n",
       "      <th>4</th>\n",
       "      <td>LP001051</td>\n",
       "      <td>1</td>\n",
       "    </tr>\n",
       "  </tbody>\n",
       "</table>\n",
       "</div>"
      ],
      "text/plain": [
       "    Loan_ID  Loan_Status\n",
       "0  LP001015            1\n",
       "1  LP001022            1\n",
       "2  LP001031            1\n",
       "3  LP001035            1\n",
       "4  LP001051            1"
      ]
     },
     "execution_count": 73,
     "metadata": {},
     "output_type": "execute_result"
    }
   ],
   "source": [
    "pred.head()"
   ]
  },
  {
   "cell_type": "code",
   "execution_count": 74,
   "metadata": {},
   "outputs": [],
   "source": [
    "pred.to_csv('Submission1.csv',index=False)"
   ]
  },
  {
   "cell_type": "code",
   "execution_count": 75,
   "metadata": {},
   "outputs": [],
   "source": [
    "submission=pd.read_csv(\"Submission1.csv\")"
   ]
  },
  {
   "cell_type": "code",
   "execution_count": 76,
   "metadata": {},
   "outputs": [
    {
     "data": {
      "text/html": [
       "<div>\n",
       "<style scoped>\n",
       "    .dataframe tbody tr th:only-of-type {\n",
       "        vertical-align: middle;\n",
       "    }\n",
       "\n",
       "    .dataframe tbody tr th {\n",
       "        vertical-align: top;\n",
       "    }\n",
       "\n",
       "    .dataframe thead th {\n",
       "        text-align: right;\n",
       "    }\n",
       "</style>\n",
       "<table border=\"1\" class=\"dataframe\">\n",
       "  <thead>\n",
       "    <tr style=\"text-align: right;\">\n",
       "      <th></th>\n",
       "      <th>Loan_ID</th>\n",
       "      <th>Loan_Status</th>\n",
       "    </tr>\n",
       "  </thead>\n",
       "  <tbody>\n",
       "    <tr>\n",
       "      <th>0</th>\n",
       "      <td>LP001015</td>\n",
       "      <td>1</td>\n",
       "    </tr>\n",
       "    <tr>\n",
       "      <th>1</th>\n",
       "      <td>LP001022</td>\n",
       "      <td>1</td>\n",
       "    </tr>\n",
       "    <tr>\n",
       "      <th>2</th>\n",
       "      <td>LP001031</td>\n",
       "      <td>1</td>\n",
       "    </tr>\n",
       "    <tr>\n",
       "      <th>3</th>\n",
       "      <td>LP001035</td>\n",
       "      <td>1</td>\n",
       "    </tr>\n",
       "    <tr>\n",
       "      <th>4</th>\n",
       "      <td>LP001051</td>\n",
       "      <td>1</td>\n",
       "    </tr>\n",
       "  </tbody>\n",
       "</table>\n",
       "</div>"
      ],
      "text/plain": [
       "    Loan_ID  Loan_Status\n",
       "0  LP001015            1\n",
       "1  LP001022            1\n",
       "2  LP001031            1\n",
       "3  LP001035            1\n",
       "4  LP001051            1"
      ]
     },
     "execution_count": 76,
     "metadata": {},
     "output_type": "execute_result"
    }
   ],
   "source": [
    "submission.head()"
   ]
  },
  {
   "cell_type": "code",
   "execution_count": 77,
   "metadata": {},
   "outputs": [
    {
     "data": {
      "text/plain": [
       "1    308\n",
       "0     59\n",
       "Name: Loan_Status, dtype: int64"
      ]
     },
     "execution_count": 77,
     "metadata": {},
     "output_type": "execute_result"
    }
   ],
   "source": [
    "submission[\"Loan_Status\"].value_counts()"
   ]
  },
  {
   "cell_type": "code",
   "execution_count": 78,
   "metadata": {},
   "outputs": [],
   "source": [
    "submission = submission.replace({'Loan_Status': {0: 'N', 1 : 'Y'}})"
   ]
  },
  {
   "cell_type": "code",
   "execution_count": 79,
   "metadata": {},
   "outputs": [
    {
     "data": {
      "text/html": [
       "<div>\n",
       "<style scoped>\n",
       "    .dataframe tbody tr th:only-of-type {\n",
       "        vertical-align: middle;\n",
       "    }\n",
       "\n",
       "    .dataframe tbody tr th {\n",
       "        vertical-align: top;\n",
       "    }\n",
       "\n",
       "    .dataframe thead th {\n",
       "        text-align: right;\n",
       "    }\n",
       "</style>\n",
       "<table border=\"1\" class=\"dataframe\">\n",
       "  <thead>\n",
       "    <tr style=\"text-align: right;\">\n",
       "      <th></th>\n",
       "      <th>Loan_ID</th>\n",
       "      <th>Loan_Status</th>\n",
       "    </tr>\n",
       "  </thead>\n",
       "  <tbody>\n",
       "    <tr>\n",
       "      <th>0</th>\n",
       "      <td>LP001015</td>\n",
       "      <td>Y</td>\n",
       "    </tr>\n",
       "    <tr>\n",
       "      <th>1</th>\n",
       "      <td>LP001022</td>\n",
       "      <td>Y</td>\n",
       "    </tr>\n",
       "    <tr>\n",
       "      <th>2</th>\n",
       "      <td>LP001031</td>\n",
       "      <td>Y</td>\n",
       "    </tr>\n",
       "    <tr>\n",
       "      <th>3</th>\n",
       "      <td>LP001035</td>\n",
       "      <td>Y</td>\n",
       "    </tr>\n",
       "    <tr>\n",
       "      <th>4</th>\n",
       "      <td>LP001051</td>\n",
       "      <td>Y</td>\n",
       "    </tr>\n",
       "    <tr>\n",
       "      <th>...</th>\n",
       "      <td>...</td>\n",
       "      <td>...</td>\n",
       "    </tr>\n",
       "    <tr>\n",
       "      <th>362</th>\n",
       "      <td>LP002971</td>\n",
       "      <td>Y</td>\n",
       "    </tr>\n",
       "    <tr>\n",
       "      <th>363</th>\n",
       "      <td>LP002975</td>\n",
       "      <td>Y</td>\n",
       "    </tr>\n",
       "    <tr>\n",
       "      <th>364</th>\n",
       "      <td>LP002980</td>\n",
       "      <td>Y</td>\n",
       "    </tr>\n",
       "    <tr>\n",
       "      <th>365</th>\n",
       "      <td>LP002986</td>\n",
       "      <td>Y</td>\n",
       "    </tr>\n",
       "    <tr>\n",
       "      <th>366</th>\n",
       "      <td>LP002989</td>\n",
       "      <td>Y</td>\n",
       "    </tr>\n",
       "  </tbody>\n",
       "</table>\n",
       "<p>367 rows × 2 columns</p>\n",
       "</div>"
      ],
      "text/plain": [
       "      Loan_ID Loan_Status\n",
       "0    LP001015           Y\n",
       "1    LP001022           Y\n",
       "2    LP001031           Y\n",
       "3    LP001035           Y\n",
       "4    LP001051           Y\n",
       "..        ...         ...\n",
       "362  LP002971           Y\n",
       "363  LP002975           Y\n",
       "364  LP002980           Y\n",
       "365  LP002986           Y\n",
       "366  LP002989           Y\n",
       "\n",
       "[367 rows x 2 columns]"
      ]
     },
     "execution_count": 79,
     "metadata": {},
     "output_type": "execute_result"
    }
   ],
   "source": [
    "submission"
   ]
  },
  {
   "cell_type": "code",
   "execution_count": 80,
   "metadata": {},
   "outputs": [],
   "source": [
    "submission.to_csv('Submissiongrid.csv',index=False)"
   ]
  }
 ],
 "metadata": {
  "kernelspec": {
   "display_name": "Python 3 (ipykernel)",
   "language": "python",
   "name": "python3"
  },
  "language_info": {
   "codemirror_mode": {
    "name": "ipython",
    "version": 3
   },
   "file_extension": ".py",
   "mimetype": "text/x-python",
   "name": "python",
   "nbconvert_exporter": "python",
   "pygments_lexer": "ipython3",
   "version": "3.9.13"
  }
 },
 "nbformat": 4,
 "nbformat_minor": 4
}
